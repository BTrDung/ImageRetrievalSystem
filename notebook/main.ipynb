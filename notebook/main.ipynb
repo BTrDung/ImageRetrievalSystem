{
  "cells": [
    {
      "cell_type": "code",
      "execution_count": null,
      "metadata": {
        "id": "35EAyQMUWA52",
        "outputId": "c201560d-8aed-4523-de60-531388de5319"
      },
      "outputs": [
        {
          "name": "stdout",
          "output_type": "stream",
          "text": [
            ">> Loading network:\n",
            ">>>> 'retrievalSfM120k-resnet101-gem'\n",
            ">>>> loaded network: \n",
            "  (meta): dict( \n",
            "     architecture: resnet101\n",
            "     local_whitening: False\n",
            "     pooling: gem\n",
            "     regional: False\n",
            "     whitening: False\n",
            "     outputdim: 2048\n",
            "     mean: [0.485, 0.456, 0.406]\n",
            "     std: [0.229, 0.224, 0.225]\n",
            "  )\n",
            "\n",
            ">> Set-up multiscale:\n",
            ">>>> ms: [1, 0.7071067811865475, 0.5]\n",
            ">>>> msp: 2.9032764434814453\n",
            ">> retrieval-SfM-120k: Whitening is precomputed, loading it...\n",
            ">> retrieval-SfM-120k: elapsed time: 0s\n",
            ">> oxford5k: Extracting...\n",
            ">> oxford5k: database images...\n",
            "/home/mismart/anaconda3/envs/rtx_3060/lib/python3.6/site-packages/torch/nn/functional.py:3680: UserWarning: The default behavior for interpolate/upsample with float scale_factor changed in 1.6.0 to align with other frameworks/libraries, and now uses scale_factor directly, instead of relying on the computed output size. If you wish to restore the old behavior, please set recompute_scale_factor=True. See the documentation of nn.Upsample for details. \n",
            "  \"The default behavior for interpolate/upsample with float scale_factor changed \"\n",
            ">>>> 5063/5063 done...\n",
            ">> oxford5k: query images...\n",
            ">>>> 55/55 done...\n",
            ">> oxford5k: Evaluating...\n",
            ">> oxford5k: mAP 81.12\n",
            ">> oxford5k + whiten: mAP 88.19\n",
            ">> oxford5k: elapsed time: 10m 9s\n",
            ">> paris6k: Extracting...\n",
            ">> paris6k: database images...\n",
            ">>>> 6392/6392 done...\n",
            ">> paris6k: query images...\n",
            ">>>> 55/55 done...\n",
            ">> paris6k: Evaluating...\n",
            ">> paris6k: mAP 87.80\n",
            ">> paris6k + whiten: mAP 92.60\n",
            ">> paris6k: elapsed time: 12m 24s\n",
            ">> roxford5k: Extracting...\n",
            ">> roxford5k: database images...\n",
            ">>>> 4993/4993 done...\n",
            ">> roxford5k: query images...\n",
            ">>>> 70/70 done...\n",
            ">> roxford5k: Evaluating...\n",
            ">> roxford5k: mAP E: 73.94, M: 55.83, H: 27.68\n",
            ">> roxford5k: mP@k[1, 5, 10] E: [92.65 81.1  77.15], M: [92.86 80.95 75.67], H: [67.14 48.71 40.14]\n",
            ">> roxford5k + whiten: mAP E: 84.07, M: 65.33, H: 40.12\n",
            ">> roxford5k + whiten: mP@k[1, 5, 10] E: [97.06 90.88 86.47], M: [95.71 90.   86.14], H: [82.86 66.86 56.43]\n",
            ">> roxford5k: elapsed time: 9m 49s\n",
            ">> rparis6k: Extracting...\n",
            ">> rparis6k: database images...\n",
            ">>>> 6322/6322 done...\n",
            ">> rparis6k: query images...\n",
            ">>>> 70/70 done...\n",
            ">> rparis6k: Evaluating...\n",
            ">> rparis6k: mAP E: 86.52, M: 70.02, H: 44.82\n",
            ">> rparis6k: mP@k[1, 5, 10] E: [98.57 95.43 93.86], M: [100.    98.29  96.71], H: [94.29 87.14 83.43]\n",
            ">> rparis6k + whiten: mAP E: 91.62, M: 76.71, H: 55.32\n",
            ">> rparis6k + whiten: mP@k[1, 5, 10] E: [98.57 96.57 95.63], M: [100.    98.86  98.57], H: [97.14 90.29 88.29]\n",
            ">> rparis6k: elapsed time: 12m 17s\n"
          ]
        }
      ],
      "source": [
        "!python3 -m cirtorch.examples.test --gpu-id '0' --network-path 'retrievalSfM120k-resnet101-gem' --datasets 'oxford5k,paris6k,roxford5k,rparis6k' --whitening 'retrieval-SfM-120k' --multiscale '[1, 1/2**(1/2), 1/2]' "
      ]
    },
    {
      "cell_type": "code",
      "execution_count": null,
      "metadata": {
        "id": "efDxeQvuWA56",
        "outputId": "6867f2c4-b741-44a1-d95b-28066b07c5b0"
      },
      "outputs": [
        {
          "name": "stdout",
          "output_type": "stream",
          "text": [
            ">> Loading network:\n",
            ">>>> 'retrievalSfM120k-vgg16-gem'\n",
            "Downloading: \"http://cmp.felk.cvut.cz/cnnimageretrieval/data/networks/retrieval-SfM-120k/retrievalSfM120k-vgg16-gem-b4dcdc6.pth\" to /home/mismart/Desktop/IR/ImageRetrieval/cnnimageretrieval-pytorch/data/networks/retrievalSfM120k-vgg16-gem-b4dcdc6.pth\n",
            "100.0%\n",
            ">>>> loaded network: \n",
            "  (meta): dict( \n",
            "     architecture: vgg16\n",
            "     local_whitening: False\n",
            "     pooling: gem\n",
            "     regional: False\n",
            "     whitening: False\n",
            "     outputdim: 512\n",
            "     mean: [0.485, 0.456, 0.406]\n",
            "     std: [0.229, 0.224, 0.225]\n",
            "  )\n",
            "\n",
            ">> Set-up multiscale:\n",
            ">>>> ms: [1, 0.7071067811865475, 0.5]\n",
            ">>>> msp: 2.9208486080169678\n",
            ">> retrieval-SfM-120k: Whitening is precomputed, loading it...\n",
            ">> retrieval-SfM-120k: elapsed time: 0s\n",
            ">> oxford5k: Extracting...\n",
            ">> oxford5k: database images...\n",
            "/home/mismart/anaconda3/envs/rtx_3060/lib/python3.6/site-packages/torch/nn/functional.py:3680: UserWarning: The default behavior for interpolate/upsample with float scale_factor changed in 1.6.0 to align with other frameworks/libraries, and now uses scale_factor directly, instead of relying on the computed output size. If you wish to restore the old behavior, please set recompute_scale_factor=True. See the documentation of nn.Upsample for details. \n",
            "  \"The default behavior for interpolate/upsample with float scale_factor changed \"\n",
            ">>>> 5063/5063 done...\n",
            ">> oxford5k: query images...\n",
            ">>>> 55/55 done...\n",
            ">> oxford5k: Evaluating...\n",
            ">> oxford5k: mAP 82.44\n",
            ">> oxford5k + whiten: mAP 87.23\n",
            ">> oxford5k: elapsed time: 9m 48s\n",
            ">> paris6k: Extracting...\n",
            ">> paris6k: database images...\n",
            ">>>> 6392/6392 done...\n",
            ">> paris6k: query images...\n",
            ">>>> 55/55 done...\n",
            ">> paris6k: Evaluating...\n",
            ">> paris6k: mAP 82.28\n",
            ">> paris6k + whiten: mAP 87.80\n",
            ">> paris6k: elapsed time: 12m 8s\n",
            ">> roxford5k: Extracting...\n",
            ">> roxford5k: database images...\n",
            ">>>> 4993/4993 done...\n",
            ">> roxford5k: query images...\n",
            ">>>> 70/70 done...\n",
            ">> roxford5k: Evaluating...\n",
            ">> roxford5k: mAP E: 73.88, M: 55.95, H: 26.94\n",
            ">> roxford5k: mP@k[1, 5, 10] E: [86.76 85.29 80.74], M: [88.57 85.14 77.43], H: [62.86 47.43 40.29]\n",
            ">> roxford5k + whiten: mAP E: 79.17, M: 60.78, H: 32.58\n",
            ">> roxford5k + whiten: mP@k[1, 5, 10] E: [94.12 86.69 82.95], M: [94.29 87.81 82.52], H: [74.29 57.52 51.95]\n",
            ">> roxford5k: elapsed time: 9m 40s\n",
            ">> rparis6k: Extracting...\n",
            ">> rparis6k: database images...\n",
            ">>>> 6322/6322 done...\n",
            ">> rparis6k: query images...\n",
            ">>>> 70/70 done...\n",
            ">> rparis6k: Evaluating...\n",
            ">> rparis6k: mAP E: 80.3, M: 63.01, H: 37.32\n",
            ">> rparis6k: mP@k[1, 5, 10] E: [97.14 94.86 93.14], M: [100.    96.86  95.57], H: [95.71 83.71 78.71]\n",
            ">> rparis6k + whiten: mAP E: 86.74, M: 69.29, H: 44.23\n",
            ">> rparis6k + whiten: mP@k[1, 5, 10] E: [98.57 96.29 94.48], M: [100.    99.43  97.86], H: [100.    89.14  84.  ]\n",
            ">> rparis6k: elapsed time: 12m 1s\n"
          ]
        }
      ],
      "source": [
        "!python3 -m cirtorch.examples.test --gpu-id '0' --network-path 'retrievalSfM120k-vgg16-gem' --datasets 'oxford5k,paris6k,roxford5k,rparis6k' --whitening 'retrieval-SfM-120k' --multiscale '[1, 1/2**(1/2), 1/2]'"
      ]
    }
  ],
  "metadata": {
    "interpreter": {
      "hash": "a01392c040f8db81adea471c2b67a6fec01a33fc56726429a4995c12a464666f"
    },
    "kernelspec": {
      "display_name": "Python 3.9.7 64-bit ('retrieval': conda)",
      "language": "python",
      "name": "python3"
    },
    "language_info": {
      "codemirror_mode": {
        "name": "ipython",
        "version": 3
      },
      "file_extension": ".py",
      "mimetype": "text/x-python",
      "name": "python",
      "nbconvert_exporter": "python",
      "pygments_lexer": "ipython3",
      "version": "3.6.5"
    },
    "orig_nbformat": 4,
    "colab": {
      "name": "main.ipynb",
      "provenance": []
    }
  },
  "nbformat": 4,
  "nbformat_minor": 0
}